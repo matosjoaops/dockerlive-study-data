{
 "cells": [
  {
   "cell_type": "code",
   "execution_count": 10,
   "metadata": {},
   "outputs": [],
   "source": [
    "import pandas as pd\n",
    "import matplotlib.pyplot as plt\n",
    "import seaborn as sns"
   ]
  },
  {
   "cell_type": "code",
   "execution_count": 11,
   "metadata": {},
   "outputs": [],
   "source": [
    "data = pd.read_csv(\"anon-data/dockerfiles.csv\")\n",
    "control = pd.read_csv(\"anon-data/control.txt\", names=[\"id\"])\n",
    "experimental = pd.read_csv(\"anon-data/experimental.txt\", names=[\"id\"])\n"
   ]
  },
  {
   "cell_type": "code",
   "execution_count": 12,
   "metadata": {},
   "outputs": [],
   "source": [
    "control_list = [x[0] for x in control.values.tolist()]\n",
    "experimental_list = [x[0] for x in experimental.values.tolist()]"
   ]
  },
  {
   "cell_type": "code",
   "execution_count": 13,
   "metadata": {},
   "outputs": [],
   "source": [
    "data_control = data[data[\"id\"].isin(control_list)].drop('id', axis=1)\n",
    "data_experimental = data[data[\"id\"].isin(experimental_list)].drop('id', axis=1)"
   ]
  },
  {
   "cell_type": "code",
   "execution_count": 14,
   "metadata": {},
   "outputs": [
    {
     "data": {
      "image/png": "[encoded data removed]",
      "text/plain": [
       "<Figure size 640x480 with 1 Axes>"
      ]
     },
     "metadata": {},
     "output_type": "display_data"
    }
   ],
   "source": [
    "renamed_control_data = data_control.rename(columns={\"Image Size (Task 1)\": \"Image Size (MB)\"})\n",
    "sns.boxplot(x=renamed_control_data[\"Image Size (MB)\"])\n",
    "data_experimental[\"Image Size (Task 1)\"]\n",
    "plt.title(\"Distribution of image size in the control group\")\n",
    "plt.savefig(\"images/image_size_control.svg\")\n"
   ]
  },
  {
   "cell_type": "code",
   "execution_count": 15,
   "metadata": {},
   "outputs": [
    {
     "data": {
      "text/html": [
       "<div>\n",
       "<style scoped>\n",
       "    .dataframe tbody tr th:only-of-type {\n",
       "        vertical-align: middle;\n",
       "    }\n",
       "\n",
       "    .dataframe tbody tr th {\n",
       "        vertical-align: top;\n",
       "    }\n",
       "\n",
       "    .dataframe thead th {\n",
       "        text-align: right;\n",
       "    }\n",
       "</style>\n",
       "<table border=\"1\" class=\"dataframe\">\n",
       "  <thead>\n",
       "    <tr style=\"text-align: right;\">\n",
       "      <th></th>\n",
       "      <th>Notes (Task 2)</th>\n",
       "      <th>Notes (Task 3)</th>\n",
       "    </tr>\n",
       "  </thead>\n",
       "  <tbody>\n",
       "    <tr>\n",
       "      <th>0</th>\n",
       "      <td>Created a separate directory and moved the fil...</td>\n",
       "      <td>Added npm install but did not remove useless n...</td>\n",
       "    </tr>\n",
       "    <tr>\n",
       "      <th>1</th>\n",
       "      <td>Changed the working directory twice and change...</td>\n",
       "      <td>Added npm install and removed useless nodejs i...</td>\n",
       "    </tr>\n",
       "    <tr>\n",
       "      <th>2</th>\n",
       "      <td>Changed the working directory and the user.</td>\n",
       "      <td>Added npm install and removed the useless node...</td>\n",
       "    </tr>\n",
       "    <tr>\n",
       "      <th>3</th>\n",
       "      <td>Changed the working directory and the user.</td>\n",
       "      <td>Added npm install and removed the useless node...</td>\n",
       "    </tr>\n",
       "    <tr>\n",
       "      <th>4</th>\n",
       "      <td>One of the files is still accessed and the wor...</td>\n",
       "      <td>Added npm install and removed the useless node...</td>\n",
       "    </tr>\n",
       "    <tr>\n",
       "      <th>5</th>\n",
       "      <td>Changed the working directory and the user.</td>\n",
       "      <td>Added npm install and removed the useless node...</td>\n",
       "    </tr>\n",
       "    <tr>\n",
       "      <th>6</th>\n",
       "      <td>Sets user to root at the start and to node at ...</td>\n",
       "      <td>Added npm install.</td>\n",
       "    </tr>\n",
       "  </tbody>\n",
       "</table>\n",
       "</div>"
      ],
      "text/plain": [
       "                                      Notes (Task 2)  \\\n",
       "0  Created a separate directory and moved the fil...   \n",
       "1  Changed the working directory twice and change...   \n",
       "2        Changed the working directory and the user.   \n",
       "3        Changed the working directory and the user.   \n",
       "4  One of the files is still accessed and the wor...   \n",
       "5        Changed the working directory and the user.   \n",
       "6  Sets user to root at the start and to node at ...   \n",
       "\n",
       "                                      Notes (Task 3)  \n",
       "0  Added npm install but did not remove useless n...  \n",
       "1  Added npm install and removed useless nodejs i...  \n",
       "2  Added npm install and removed the useless node...  \n",
       "3  Added npm install and removed the useless node...  \n",
       "4  Added npm install and removed the useless node...  \n",
       "5  Added npm install and removed the useless node...  \n",
       "6                                 Added npm install.  "
      ]
     },
     "execution_count": 15,
     "metadata": {},
     "output_type": "execute_result"
    }
   ],
   "source": [
    "textual_data = data[[\"Notes (Task 2)\", \"Notes (Task 3)\"]]\n",
    "textual_data"
   ]
  },
  {
   "cell_type": "code",
   "execution_count": 16,
   "metadata": {},
   "outputs": [
    {
     "name": "stdout",
     "output_type": "stream",
     "text": [
      "  Successful Build? (Task 1) Successful Execution? (Task 1)\n",
      "0                        Yes                            Yes\n",
      "1                        Yes                            Yes\n",
      "2                        Yes                            Yes\n",
      "3                        Yes                            Yes\n",
      "4                        Yes                            Yes\n",
      "5                        Yes                            Yes\n",
      "6                        Yes                            Yes\n",
      "  Successful Build? (Task 2) Successful Execution? (Task 2)\n",
      "0                        Yes                            Yes\n",
      "1                        Yes                            Yes\n",
      "2                        Yes                            Yes\n",
      "3                        Yes                            Yes\n",
      "4                        Yes                             No\n",
      "5                        Yes                            Yes\n",
      "6                        Yes                            Yes\n",
      "  Successful Build? (Task 3) Successful Execution? (Task 3)\n",
      "0                        Yes                            Yes\n",
      "1                        Yes                            Yes\n",
      "2                        Yes                            Yes\n",
      "3                        Yes                            Yes\n",
      "4                        Yes                            Yes\n",
      "5                        Yes                            Yes\n",
      "6                        Yes                            Yes\n"
     ]
    }
   ],
   "source": [
    "boolean_sections = [\n",
    "    [\"Successful Build? (Task 1)\", \"Successful Execution? (Task 1)\"],\n",
    "    [\"Successful Build? (Task 2)\", \"Successful Execution? (Task 2)\"],\n",
    "    [\"Successful Build? (Task 3)\", \"Successful Execution? (Task 3)\"],\n",
    "]\n",
    "\n",
    "for i in boolean_sections:\n",
    "    print(data[i])"
   ]
  }
 ],
 "metadata": {
  "kernelspec": {
   "display_name": "base",
   "language": "python",
   "name": "python3"
  },
  "language_info": {
   "codemirror_mode": {
    "name": "ipython",
    "version": 3
   },
   "file_extension": ".py",
   "mimetype": "text/x-python",
   "name": "python",
   "nbconvert_exporter": "python",
   "pygments_lexer": "ipython3",
   "version": "3.10.9"
  },
  "orig_nbformat": 4
 },
 "nbformat": 4,
 "nbformat_minor": 2
}
