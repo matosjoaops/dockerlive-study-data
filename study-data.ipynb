{
 "cells": [
  {
   "cell_type": "code",
   "execution_count": 69,
   "id": "df698f81",
   "metadata": {},
   "outputs": [],
   "source": [
    "import pandas as pd\n",
    "import matplotlib.pyplot as plt\n",
    "import numpy as np"
   ]
  },
  {
   "cell_type": "code",
   "execution_count": 3,
   "id": "dabdd10c",
   "metadata": {},
   "outputs": [],
   "source": [
    "background = pd.read_csv(\"anon-data/background.csv\")\n",
    "control = pd.read_csv(\"anon-data/control.txt\", names=[\"id\"])\n",
    "experimental = pd.read_csv(\"anon-data/experimental.txt\", names=[\"id\"])"
   ]
  },
  {
   "cell_type": "code",
   "execution_count": 4,
   "id": "296d6be1",
   "metadata": {},
   "outputs": [],
   "source": [
    "control_list = [x[0] for x in control.values.tolist()]\n",
    "experimental_list = [x[0] for x in experimental.values.tolist()]"
   ]
  },
  {
   "cell_type": "code",
   "execution_count": 11,
   "id": "8c82a78a",
   "metadata": {},
   "outputs": [],
   "source": [
    "background_control = background[background[\"id\"].isin(control_list)].drop('id', axis=1)\n",
    "background_experimental = background[background[\"id\"].isin(experimental_list)].drop('id', axis=1)"
   ]
  },
  {
   "cell_type": "code",
   "execution_count": 66,
   "id": "80149884",
   "metadata": {},
   "outputs": [],
   "source": [
    " def process_col(colname):\n",
    "    control_vals = background_control[colname].unique()\n",
    "    experimental_vals = background_experimental[colname].unique()\n",
    "\n",
    "    x = []\n",
    "    for i in control_vals:\n",
    "        if i not in x:\n",
    "            x.append(i)\n",
    "    for i in experimental_vals:\n",
    "        if i not in x:\n",
    "            x.append(i)\n",
    "\n",
    "    value_count_df_control = background_control[colname].value_counts().reset_index()\n",
    "    value_count_df_control.columns = [\"Answer\", \"counts\"]\n",
    "    answer_count_control = dict(zip(value_count_df_control[\"Answer\"], value_count_df_control[\"counts\"])) \n",
    "\n",
    "    value_count_df_experimental = background_experimental[colname].value_counts().reset_index()\n",
    "    value_count_df_experimental.columns = [\"Answer\", \"counts\"]\n",
    "    answer_count_experimental = dict(zip(value_count_df_experimental[\"Answer\"], value_count_df_experimental[\"counts\"])) \n",
    "\n",
    "    for key in answer_count_control:\n",
    "        if key not in answer_count_experimental:\n",
    "            answer_count_experimental[key] = 0\n",
    "\n",
    "    for key in answer_count_experimental:\n",
    "        if key not in answer_count_control:\n",
    "            answer_count_control[key] = 0\n",
    "\n",
    "    y = []\n",
    "    y2 = []\n",
    "\n",
    "    for i in x:\n",
    "        y.append(answer_count_control[i])\n",
    "        y2.append(answer_count_experimental[i])\n",
    "    \n",
    "    return pd.Series(x), y, y2"
   ]
  },
  {
   "cell_type": "code",
   "execution_count": 70,
   "id": "27b5b8b6",
   "metadata": {
    "scrolled": false
   },
   "outputs": [
    {
     "data": {
      "image/png": "[encoded data removed]",
      "text/plain": [
       "<Figure size 640x480 with 1 Axes>"
      ]
     },
     "metadata": {},
     "output_type": "display_data"
    }
   ],
   "source": [
    "x, y, y2 = process_col(\"What is your current role?\")\n",
    "x_axis = np.arange(len(x))\n",
    "width = 0.4\n",
    "plt.bar(x_axis, height=y, width=width)\n",
    "plt.bar(x_axis + width, height=y2, width=width)\n",
    "\n",
    "plt.xticks(x_axis,x)\n",
    "plt.show()"
   ]
  },
  {
   "cell_type": "code",
   "execution_count": 53,
   "id": "2b4d35a0",
   "metadata": {},
   "outputs": [
    {
     "data": {
      "text/plain": [
       "[1, 2, 3, 2, 0, 0]"
      ]
     },
     "execution_count": 53,
     "metadata": {},
     "output_type": "execute_result"
    }
   ],
   "source": []
  },
  {
   "cell_type": "code",
   "execution_count": 54,
   "id": "d33861d8",
   "metadata": {},
   "outputs": [
    {
     "data": {
      "text/plain": [
       "[0, 2, 3, 1, 1, 1]"
      ]
     },
     "execution_count": 54,
     "metadata": {},
     "output_type": "execute_result"
    }
   ],
   "source": []
  }
 ],
 "metadata": {
  "kernelspec": {
   "display_name": "Python 3 (ipykernel)",
   "language": "python",
   "name": "python3"
  },
  "language_info": {
   "codemirror_mode": {
    "name": "ipython",
    "version": 3
   },
   "file_extension": ".py",
   "mimetype": "text/x-python",
   "name": "python",
   "nbconvert_exporter": "python",
   "pygments_lexer": "ipython3",
   "version": "3.10.9"
  }
 },
 "nbformat": 4,
 "nbformat_minor": 5
}
